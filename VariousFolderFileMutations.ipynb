{
 "cells": [
  {
   "cell_type": "code",
   "execution_count": null,
   "metadata": {},
   "outputs": [],
   "source": [
    "import os\n",
    "import re"
   ]
  },
  {
   "cell_type": "code",
   "execution_count": null,
   "metadata": {},
   "outputs": [],
   "source": []
  },
  {
   "cell_type": "code",
   "execution_count": null,
   "metadata": {},
   "outputs": [],
   "source": [
    "#Assume one folder with many files\n",
    "#Each file is formatted as 'blabla Set 1 blabla', 'blabla Set 2 blabla', etc.\n",
    "#Creates a subfolder folder for each Set n, and moves those files in there.\n",
    "\n",
    "parent_dir = r\"/mnt/zfsnas/personal/Picsvids/2025/\"\n",
    "\n",
    "for filename in os.listdir(parent_dir):\n",
    "    arr=re.findall(r'Set \\d+', filename)\n",
    "    if len(arr)>0:\n",
    "        directory=format(int(arr[0].replace('Set ', '')),'03d')\n",
    "        path = os.path.join(parent_dir, directory)\n",
    "        if not os.path.isdir(path):\n",
    "            os.mkdir(path)\n",
    "        os.rename(os.path.join(parent_dir, filename), os.path.join(path, filename))   \n",
    "        "
   ]
  },
  {
   "cell_type": "code",
   "execution_count": null,
   "metadata": {},
   "outputs": [],
   "source": [
    "#Assume one folder with many files\n",
    "#Each file is formatted as 'blabla-01-01', 'blabla-01-02', etc. the first numbers indicating a set\n",
    "#Creates a subfolder folder for each set, and moves those files in there.\n",
    "\n",
    "import os\n",
    "import re\n",
    "import shutil\n",
    "\n",
    "parent_dir = r\"\"\n",
    "\n",
    "# Regex to match the set number (second group of digits)\n",
    "pattern = r'^[^-]+-(\\d+)-'\n",
    "\n",
    "for filename in os.listdir(parent_dir):\n",
    "    file_path = os.path.join(parent_dir, filename)\n",
    "    if not os.path.isfile(file_path):\n",
    "        continue  # Skip directories\n",
    "\n",
    "    match = re.search(pattern, filename)\n",
    "    if not match:\n",
    "        print(f\"Skipping {filename}: no set number found.\")\n",
    "        continue\n",
    "\n",
    "    set_num = match.group(1)  # e.g., '01'\n",
    "    directory = f\"{int(set_num):03d}\"  # e.g., '001'\n",
    "    subfolder_path = os.path.join(parent_dir, directory)\n",
    "\n",
    "    # Create subfolder if it doesn't exist\n",
    "    if not os.path.isdir(subfolder_path):\n",
    "        try:\n",
    "            os.mkdir(subfolder_path)\n",
    "            print(f\"Create directory: {subfolder_path}\")\n",
    "        except OSError as e:\n",
    "            print(f\"Failed to create directory {subfolder_path}: {e}\")\n",
    "            continue\n",
    "\n",
    "    # Move the file\n",
    "    dest_path = os.path.join(subfolder_path, filename)\n",
    "    if os.path.exists(dest_path):\n",
    "        # Handle conflict (e.g., append \"_copy\")\n",
    "        base, ext = os.path.splitext(filename)\n",
    "        dest_path = os.path.join(subfolder_path, f\"{base}_copy{ext}\")\n",
    "\n",
    "    try:\n",
    "        shutil.move(file_path, dest_path)\n",
    "        print(f\"Moved: {filename} -> {dest_path}\")\n",
    "    except Exception as e:\n",
    "        print(f\"Failed to move {filename}: {e}\")\n"
   ]
  },
  {
   "cell_type": "code",
   "execution_count": null,
   "metadata": {},
   "outputs": [],
   "source": [
    "#Rename all folders in path recursively, removing the first four characters.\n",
    "import os\n",
    "\n",
    "path = r\"/mnt/zfsnas/personal/Picsvids/2025/\"\n",
    "\n",
    "for root, dirs, files in os.walk(path):\n",
    "    for directory in dirs:\n",
    "       new_name = directory[4:]\n",
    "       path1 = path + \"\\\\\"+ directory#Full path of directory\n",
    "       new_path = path + \"\\\\\"+new_name#Full path of file whose name is changed\n",
    "       print(path1)\n",
    "       print(new_path)\n",
    "       os.rename(path1, new_path)"
   ]
  },
  {
   "cell_type": "code",
   "execution_count": null,
   "metadata": {},
   "outputs": [],
   "source": [
    "#Rename all folders in path recursively, renaming a specific string from the foldername\n",
    "import os\n",
    "\n",
    "path = r\"\"\n",
    "string_to_find = 'SET '\n",
    "string_to_replace = ''\n",
    "\n",
    "for root, dirs, files in os.walk(path):\n",
    "    for directory in dirs:\n",
    "        new_name = directory.replace(string_to_find, string_to_replace)\n",
    "        old_path = os.path.join(root, directory)  # Full path of the directory\n",
    "        new_path = os.path.join(root, new_name)  # Full new path\n",
    "        if old_path != new_path:            \n",
    "            if os.path.exists(new_path):\n",
    "                print(f\"Folder not renamed, new folder already exists. {old_path}\")\n",
    "            else:                    \n",
    "                os.rename(old_path, new_path)\n",
    "                print(f\"Renamed {old_path} to {new_path}\")\n"
   ]
  },
  {
   "cell_type": "code",
   "execution_count": null,
   "metadata": {},
   "outputs": [],
   "source": []
  }
 ],
 "metadata": {
  "kernelspec": {
   "display_name": "Python 3",
   "language": "python",
   "name": "python3"
  },
  "language_info": {
   "codemirror_mode": {
    "name": "ipython",
    "version": 3
   },
   "file_extension": ".py",
   "mimetype": "text/x-python",
   "name": "python",
   "nbconvert_exporter": "python",
   "pygments_lexer": "ipython3",
   "version": "3.12.11"
  }
 },
 "nbformat": 4,
 "nbformat_minor": 4
}
